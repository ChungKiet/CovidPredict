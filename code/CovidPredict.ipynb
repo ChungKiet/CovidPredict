{
  "cells": [
    {
      "cell_type": "code",
      "execution_count": 1,
      "metadata": {
        "id": "bI6Q7LLgGnEM"
      },
      "outputs": [],
      "source": [
        "import pandas as pd\n",
        "\n",
        "import matplotlib.pyplot as plt\n",
        "from sklearn.model_selection import train_test_split\n",
        "from sklearn.preprocessing import PolynomialFeatures\n",
        "import numpy as np\n",
        "from sklearn.linear_model import LinearRegression, LogisticRegression"
      ]
    },
    {
      "cell_type": "code",
      "execution_count": 2,
      "metadata": {
        "id": "q33QMGTvLxfW"
      },
      "outputs": [],
      "source": [
        "df = pd.read_excel('FinalCovid.xlsx')"
      ]
    },
    {
      "cell_type": "code",
      "execution_count": 3,
      "metadata": {
        "id": "K_jzRynWQCtb"
      },
      "outputs": [],
      "source": [
        "y = df[\"Tổng\"]"
      ]
    },
    {
      "cell_type": "code",
      "execution_count": 4,
      "metadata": {},
      "outputs": [],
      "source": [
        "x = range(1, len(y) + 1, 1)"
      ]
    },
    {
      "cell_type": "code",
      "execution_count": 5,
      "metadata": {
        "id": "bCD4q5pWOAKL"
      },
      "outputs": [],
      "source": [
        "X = [[a] for a in x]"
      ]
    },
    {
      "cell_type": "code",
      "execution_count": 101,
      "metadata": {
        "id": "M5m4BizKd6cT"
      },
      "outputs": [],
      "source": [
        "#X_train = x"
      ]
    },
    {
      "cell_type": "code",
      "execution_count": 100,
      "metadata": {
        "colab": {
          "base_uri": "https://localhost:8080/"
        },
        "id": "65e7WbTRMMVc",
        "outputId": "016ab5a1-2ff5-4fc1-c580-1dad8ba7f0b5"
      },
      "outputs": [],
      "source": [
        "#reg = LogisticRegression().fit(X_train, y)"
      ]
    },
    {
      "cell_type": "code",
      "execution_count": 91,
      "metadata": {
        "colab": {
          "base_uri": "https://localhost:8080/",
          "height": 398
        },
        "id": "7EaTCkprdsKh",
        "outputId": "43d8b7a2-967e-4e96-c7e9-32391d9f2a18"
      },
      "outputs": [],
      "source": [
        "#test = scipy.stats.linregress(X_train, y)"
      ]
    },
    {
      "cell_type": "code",
      "execution_count": 97,
      "metadata": {
        "colab": {
          "base_uri": "https://localhost:8080/"
        },
        "id": "FwISy7sZMclV",
        "outputId": "2d3d106a-141e-499c-8b21-77f53edb52eb"
      },
      "outputs": [],
      "source": [
        "#reg.score(X_train, y)"
      ]
    },
    {
      "cell_type": "code",
      "execution_count": 98,
      "metadata": {
        "colab": {
          "base_uri": "https://localhost:8080/",
          "height": 282
        },
        "id": "lVQSzdaZdI0g",
        "outputId": "45b78a95-4d64-4c9c-a28b-2b37d6efb1f4"
      },
      "outputs": [],
      "source": [
        "#plt.plot(X_train, Y_train, 'o', label='original data')\n",
        "#plt.plot(X_train, test.intercept + test.slope*X_train, 'r', label='fitted line')"
      ]
    },
    {
      "cell_type": "code",
      "execution_count": 99,
      "metadata": {
        "colab": {
          "base_uri": "https://localhost:8080/"
        },
        "id": "RNtKXFJaegwW",
        "outputId": "f60f13d7-5b2f-47ac-911e-7990874d0410"
      },
      "outputs": [],
      "source": [
        "#reg.predict([[700]])"
      ]
    },
    {
      "cell_type": "markdown",
      "metadata": {},
      "source": [
        "## Shuffle Data"
      ]
    },
    {
      "cell_type": "code",
      "execution_count": 6,
      "metadata": {},
      "outputs": [],
      "source": [
        "X_train, X_test, Y_train, Y_test = train_test_split(X, y, test_size=0.33, random_state=42)"
      ]
    },
    {
      "cell_type": "code",
      "execution_count": null,
      "metadata": {
        "id": "r5H7kdDEjos_"
      },
      "outputs": [],
      "source": [
        "# X_train15 = X_train[:-15]\n",
        "# Y_train15 = y[:-15]\n",
        "# X_test = X_train[-15:]\n",
        "# Y_test = y[-15:]"
      ]
    },
    {
      "cell_type": "code",
      "execution_count": 7,
      "metadata": {},
      "outputs": [],
      "source": [
        "x1 = range(1,len(y)+1,1)\n",
        "X_train1, X_test1, Y_train1, Y_test1 = train_test_split(x1, y, test_size=0.33, random_state=42)"
      ]
    },
    {
      "cell_type": "code",
      "execution_count": 8,
      "metadata": {},
      "outputs": [
        {
          "name": "stdout",
          "output_type": "stream",
          "text": [
            "[[1.00000000e+00 1.85000000e+02 3.42250000e+04 6.33162500e+06\n",
            "  1.17135062e+09]\n",
            " [1.00000000e+00 5.18000000e+02 2.68324000e+05 1.38991832e+08\n",
            "  7.19977690e+10]\n",
            " [1.00000000e+00 1.79000000e+02 3.20410000e+04 5.73533900e+06\n",
            "  1.02662568e+09]\n",
            " ...\n",
            " [1.00000000e+00 2.71000000e+02 7.34410000e+04 1.99025110e+07\n",
            "  5.39358048e+09]\n",
            " [1.00000000e+00 4.36000000e+02 1.90096000e+05 8.28818560e+07\n",
            "  3.61364892e+10]\n",
            " [1.00000000e+00 1.03000000e+02 1.06090000e+04 1.09272700e+06\n",
            "  1.12550881e+08]]\n",
            "(430, 5)\n"
          ]
        }
      ],
      "source": [
        "train_x = np.array(X_train1)\n",
        "train_y = np.array(Y_train1)\n",
        "\n",
        "n = len(X_train1)\n",
        "\n",
        "\n",
        "XXX = np.ones((n,1))\n",
        "\n",
        "\n",
        "t = np.ones((1,n))\n",
        "for i in range(4):\n",
        "  t = t*train_x\n",
        "  XXX = np.concatenate((XXX, t.T), axis=1)\n",
        "print(XXX)\n",
        "print(XXX.shape)"
      ]
    },
    {
      "cell_type": "code",
      "execution_count": 9,
      "metadata": {},
      "outputs": [
        {
          "name": "stdout",
          "output_type": "stream",
          "text": [
            "[-2.25881185e+04  4.94959156e+02  4.30493861e-01 -1.92056771e-02\n",
            "  3.93816533e-05]\n"
          ]
        }
      ],
      "source": [
        "beta = (np.linalg.inv(np.dot(XXX.T,XXX)))@XXX.T@train_y.T\n",
        "print(beta)"
      ]
    },
    {
      "cell_type": "code",
      "execution_count": 10,
      "metadata": {},
      "outputs": [
        {
          "name": "stdout",
          "output_type": "stream",
          "text": [
            "35.23836830700891\n"
          ]
        }
      ],
      "source": [
        "#loss \n",
        "y_prediction = beta[0]+beta[1]*train_x + beta[2]*(train_x**2) + beta[3]*(train_x**3)+beta[4]*(train_x**4)\n",
        "epsilon = train_y - y_prediction\n",
        "loss = epsilon.T @ epsilon\n",
        "print(np.log(loss))\n"
      ]
    },
    {
      "cell_type": "code",
      "execution_count": 11,
      "metadata": {},
      "outputs": [
        {
          "name": "stdout",
          "output_type": "stream",
          "text": [
            "34.76291394109666\n"
          ]
        }
      ],
      "source": [
        "test_x = np.array(X_test1)\n",
        "test_y = np.array(Y_test1)\n",
        "y_prediction = beta[0]+beta[1]*test_x + beta[2]*(test_x**2) + beta[3]*(test_x**3)+beta[4]*(test_x**4)\n",
        "epsilon = test_y - y_prediction\n",
        "loss = epsilon.T @ epsilon\n",
        "print(np.log(loss))"
      ]
    },
    {
      "cell_type": "code",
      "execution_count": 10,
      "metadata": {
        "colab": {
          "base_uri": "https://localhost:8080/"
        },
        "id": "NllJZOHrpPbn",
        "outputId": "91824169-ff8e-4907-a59e-0231538a9492"
      },
      "outputs": [
        {
          "data": {
            "text/plain": [
              "LinearRegression()"
            ]
          },
          "execution_count": 10,
          "metadata": {},
          "output_type": "execute_result"
        }
      ],
      "source": [
        "poly = PolynomialFeatures(degree = 4)\n",
        "X_poly = poly.fit_transform([[test] for test in X_train1])\n",
        " \n",
        "poly.fit(X_poly, Y_train1)\n",
        "lin2 = LinearRegression()\n",
        "lin2.fit(X_poly, Y_train1)"
      ]
    },
    {
      "cell_type": "code",
      "execution_count": 11,
      "metadata": {},
      "outputs": [
        {
          "data": {
            "text/plain": [
              "array([ 0.00000000e+00,  4.94959179e+02,  4.30493793e-01, -1.92056770e-02,\n",
              "        3.93816532e-05])"
            ]
          },
          "execution_count": 11,
          "metadata": {},
          "output_type": "execute_result"
        }
      ],
      "source": [
        "lin2.coef_"
      ]
    },
    {
      "cell_type": "code",
      "execution_count": 12,
      "metadata": {},
      "outputs": [
        {
          "data": {
            "text/plain": [
              "-22588.11981298114"
            ]
          },
          "execution_count": 12,
          "metadata": {},
          "output_type": "execute_result"
        }
      ],
      "source": [
        "lin2.intercept_"
      ]
    },
    {
      "cell_type": "code",
      "execution_count": 168,
      "metadata": {
        "colab": {
          "base_uri": "https://localhost:8080/",
          "height": 295
        },
        "id": "S74xy-nWdsUi",
        "outputId": "4778882f-d700-43d3-9d3b-1db84b6c180f"
      },
      "outputs": [
        {
          "data": {
            "image/png": "[encoded data removed]",
            "text/plain": [
              "<Figure size 432x288 with 1 Axes>"
            ]
          },
          "metadata": {
            "needs_background": "light"
          },
          "output_type": "display_data"
        }
      ],
      "source": [
        "# Visualising the Polynomial Regression results\n",
        "plt.scatter(X_train, Y_train, color = 'blue')\n",
        "\n",
        "plt.plot(X_train, lin2.predict(poly.fit_transform(X_train)), color = 'red')\n",
        "plt.title('Polynomial Regression')\n",
        "plt.xlabel('Day')\n",
        "plt.ylabel('Covid Cases')\n",
        "\n",
        "plt.show()\n"
      ]
    },
    {
      "cell_type": "code",
      "execution_count": 156,
      "metadata": {
        "colab": {
          "base_uri": "https://localhost:8080/"
        },
        "id": "Igx6NqvemkqD",
        "outputId": "a5fa89f1-cce5-4ab5-be25-5d7b519e8059"
      },
      "outputs": [
        {
          "data": {
            "text/plain": [
              "array([ 0.00000000e+00,  4.94959179e+02,  4.30493793e-01, -1.92056770e-02,\n",
              "        3.93816532e-05])"
            ]
          },
          "execution_count": 156,
          "metadata": {},
          "output_type": "execute_result"
        }
      ],
      "source": [
        "lin2.coef_"
      ]
    },
    {
      "cell_type": "code",
      "execution_count": 157,
      "metadata": {},
      "outputs": [],
      "source": [
        "X_train_adapter = poly.fit_transform(X_train)\n",
        "X_test_adapter = poly.fit_transform(X_test)"
      ]
    },
    {
      "cell_type": "code",
      "execution_count": 158,
      "metadata": {},
      "outputs": [
        {
          "data": {
            "text/plain": [
              "0.9929383675173731"
            ]
          },
          "execution_count": 158,
          "metadata": {},
          "output_type": "execute_result"
        }
      ],
      "source": [
        "lin2.score(X_test_adapter, Y_test)"
      ]
    },
    {
      "cell_type": "code",
      "execution_count": 172,
      "metadata": {},
      "outputs": [
        {
          "data": {
            "image/png": "[encoded data removed]",
            "text/plain": [
              "<Figure size 432x288 with 1 Axes>"
            ]
          },
          "metadata": {
            "needs_background": "light"
          },
          "output_type": "display_data"
        }
      ],
      "source": [
        "plt.scatter(X_test, Y_test, color = 'blue')\n",
        "\n",
        "plt.plot(X_test, lin2.predict(X_test_adapter), color = 'red')\n",
        "plt.title('Polynomial Regression')\n",
        "plt.xlabel('Day')\n",
        "plt.ylabel('Covid Cases')\n",
        "\n",
        "plt.show()"
      ]
    },
    {
      "cell_type": "code",
      "execution_count": 173,
      "metadata": {},
      "outputs": [
        {
          "data": {
            "text/plain": [
              "0.9929383675173731"
            ]
          },
          "execution_count": 173,
          "metadata": {},
          "output_type": "execute_result"
        }
      ],
      "source": [
        "lin2.score(X_test_adapter, Y_test)"
      ]
    },
    {
      "cell_type": "code",
      "execution_count": 175,
      "metadata": {},
      "outputs": [],
      "source": [
        "result = lin2.predict(X_test_adapter)"
      ]
    },
    {
      "cell_type": "code",
      "execution_count": 183,
      "metadata": {},
      "outputs": [],
      "source": [
        "finalRes = result - Y_test"
      ]
    },
    {
      "cell_type": "code",
      "execution_count": 184,
      "metadata": {},
      "outputs": [],
      "source": [
        "finalRes = finalRes.tolist"
      ]
    },
    {
      "cell_type": "code",
      "execution_count": 185,
      "metadata": {},
      "outputs": [
        {
          "data": {
            "text/plain": [
              "<bound method IndexOpsMixin.tolist of 630    21290.933960\n",
              "367   -19825.563516\n",
              "485    38342.511757\n",
              "290   -34821.146078\n",
              "72      9141.036515\n",
              "           ...     \n",
              "93     14477.676627\n",
              "260   -24282.591021\n",
              "490    17800.512273\n",
              "586     2993.910900\n",
              "28     -8593.811698\n",
              "Name: Tổng, Length: 213, dtype: float64>"
            ]
          },
          "execution_count": 185,
          "metadata": {},
          "output_type": "execute_result"
        }
      ],
      "source": [
        "finalRes"
      ]
    },
    {
      "cell_type": "markdown",
      "metadata": {},
      "source": [
        "## Không Shuffle Data"
      ]
    },
    {
      "cell_type": "markdown",
      "metadata": {},
      "source": [
        "### Split by percent (For example: 8 - 2, 7 - 3)"
      ]
    },
    {
      "cell_type": "code",
      "execution_count": 148,
      "metadata": {},
      "outputs": [],
      "source": [
        "testSplitPercent = 0.25\n",
        "testDays = int(testSplitPercent*len(X))\n",
        "pos = testDays*(-1)\n",
        "X_train = X[:pos]\n",
        "Y_train = y[:pos]\n",
        "X_test = X[pos:]\n",
        "Y_test = y[pos:]\n",
        "X_train_adapter = poly.fit_transform(X_train)\n",
        "X_test_adapter = poly.fit_transform(X_test)"
      ]
    },
    {
      "cell_type": "code",
      "execution_count": 149,
      "metadata": {},
      "outputs": [
        {
          "data": {
            "text/plain": [
              "LinearRegression()"
            ]
          },
          "execution_count": 149,
          "metadata": {},
          "output_type": "execute_result"
        }
      ],
      "source": [
        "poly = PolynomialFeatures(degree = 4)\n",
        "X_poly = poly.fit_transform(X_train)\n",
        " \n",
        "poly.fit(X_poly, Y_train)\n",
        "lin2 = LinearRegression()\n",
        "lin2.fit(X_poly, Y_train)"
      ]
    },
    {
      "cell_type": "code",
      "execution_count": 150,
      "metadata": {},
      "outputs": [
        {
          "data": {
            "image/png": "[encoded data removed]",
            "text/plain": [
              "<Figure size 432x288 with 1 Axes>"
            ]
          },
          "metadata": {
            "needs_background": "light"
          },
          "output_type": "display_data"
        }
      ],
      "source": [
        "plt.scatter(X_train, Y_train, color = 'blue')\n",
        "\n",
        "plt.plot(X_train, lin2.predict(X_train_adapter), color = 'red')\n",
        "plt.title('Polynomial Regression')\n",
        "plt.xlabel('Day')\n",
        "plt.ylabel('Covid Cases')\n",
        "\n",
        "plt.show()"
      ]
    },
    {
      "cell_type": "code",
      "execution_count": 151,
      "metadata": {},
      "outputs": [
        {
          "data": {
            "text/plain": [
              "0.7830225481462654"
            ]
          },
          "execution_count": 151,
          "metadata": {},
          "output_type": "execute_result"
        }
      ],
      "source": [
        "lin2.score(X_train_adapter, Y_train)"
      ]
    },
    {
      "cell_type": "code",
      "execution_count": 152,
      "metadata": {},
      "outputs": [
        {
          "data": {
            "image/png": "[encoded data removed]",
            "text/plain": [
              "<Figure size 432x288 with 1 Axes>"
            ]
          },
          "metadata": {
            "needs_background": "light"
          },
          "output_type": "display_data"
        }
      ],
      "source": [
        "plt.scatter(X_test, Y_test, color = 'blue')\n",
        "\n",
        "plt.plot(X_test, lin2.predict(X_test_adapter), color = 'red')\n",
        "plt.title('Polynomial Regression')\n",
        "plt.xlabel('Day')\n",
        "plt.ylabel('Covid Cases')\n",
        "\n",
        "plt.show()"
      ]
    },
    {
      "cell_type": "code",
      "execution_count": 164,
      "metadata": {},
      "outputs": [
        {
          "data": {
            "text/plain": [
              "0.9929383675173731"
            ]
          },
          "execution_count": 164,
          "metadata": {},
          "output_type": "execute_result"
        }
      ],
      "source": [
        "lin2.score(X_test_adapter, Y_test)"
      ]
    },
    {
      "cell_type": "code",
      "execution_count": null,
      "metadata": {},
      "outputs": [],
      "source": []
    }
  ],
  "metadata": {
    "colab": {
      "name": "CovidPredict.ipynb",
      "provenance": []
    },
    "kernelspec": {
      "display_name": "Python 3",
      "name": "python3"
    },
    "language_info": {
      "codemirror_mode": {
        "name": "ipython",
        "version": 3
      },
      "file_extension": ".py",
      "mimetype": "text/x-python",
      "name": "python",
      "nbconvert_exporter": "python",
      "pygments_lexer": "ipython3",
      "version": "3.9.6"
    }
  },
  "nbformat": 4,
  "nbformat_minor": 0
}
