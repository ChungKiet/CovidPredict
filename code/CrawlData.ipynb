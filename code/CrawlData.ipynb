{
  "cells": [
    {
      "cell_type": "markdown",
      "metadata": {},
      "source": [
        "#### Để có thể crawl data thành các file excel có thể chọn loại data:\n",
        "1. Covid By Time\n",
        "2. Covid By Day\n",
        "3. Recovered By Time\n",
        "4. Recovered By Day\n"
      ]
    },
    {
      "cell_type": "code",
      "execution_count": 1,
      "metadata": {},
      "outputs": [],
      "source": [
        "DataSection = ['case_by_time', 'case_by_day', 'recovered_by_time', 'recovered_by_day']\n",
        "CASE_BY_TIME = 0\n",
        "CASE_BY_DAY = 1\n",
        "RECOVERED_BY_TIME = 2\n",
        "RECOVERED_BY_DAY = 3"
      ]
    },
    {
      "cell_type": "code",
      "execution_count": 2,
      "metadata": {},
      "outputs": [],
      "source": [
        "DataFile = DataSection[RECOVERED_BY_TIME]"
      ]
    },
    {
      "cell_type": "markdown",
      "metadata": {},
      "source": [
        "### GET JSON File"
      ]
    },
    {
      "cell_type": "code",
      "execution_count": 3,
      "metadata": {},
      "outputs": [],
      "source": [
        "import requests\n",
        "import json\n",
        "\n",
        "response = requests.get('https://covid19.ncsc.gov.vn/api/v3/covid/provinces?filter_type=' + DataFile)\n",
        "decoded_response = response.json()\n",
        "data = decoded_response"
      ]
    },
    {
      "cell_type": "markdown",
      "metadata": {},
      "source": [
        "### GET List of Provinces"
      ]
    },
    {
      "cell_type": "code",
      "execution_count": 4,
      "metadata": {
        "id": "tIN2MdWkXx67"
      },
      "outputs": [],
      "source": [
        "provResponse = requests.get('https://covid19.ncsc.gov.vn/api/v3/covid/provinces?')\n",
        "provDecoded_response = provResponse.json()\n",
        "proData = provDecoded_response\n",
        "tempProvince = [[int(pro[\"id\"]), pro[\"name\"]] for pro in proData]"
      ]
    },
    {
      "cell_type": "code",
      "execution_count": 5,
      "metadata": {
        "id": "uwYBnEdoYd2C"
      },
      "outputs": [],
      "source": [
        "def provSort():\n",
        "  for i in range(len(tempProvince)):\n",
        "    for j in range(i, len(tempProvince)):\n",
        "      if tempProvince[i][0] > tempProvince[j][0]:\n",
        "        tempProvince[i], tempProvince[j] = tempProvince[j], tempProvince[i]"
      ]
    },
    {
      "cell_type": "code",
      "execution_count": 6,
      "metadata": {
        "id": "MAEKfixWaBSZ"
      },
      "outputs": [],
      "source": [
        "provSort()"
      ]
    },
    {
      "cell_type": "markdown",
      "metadata": {},
      "source": [
        "### GET the list of days"
      ]
    },
    {
      "cell_type": "code",
      "execution_count": 7,
      "metadata": {
        "id": "79K3vUp8HVgL"
      },
      "outputs": [],
      "source": [
        "import pandas as pd"
      ]
    },
    {
      "cell_type": "code",
      "execution_count": 8,
      "metadata": {
        "id": "9QDnlGncVBz-"
      },
      "outputs": [],
      "source": [
        "HaNoi = data[\"1\"]"
      ]
    },
    {
      "cell_type": "code",
      "execution_count": 10,
      "metadata": {
        "id": "p4TItZGjbKAw"
      },
      "outputs": [],
      "source": [
        "Keys = [k for k in HaNoi.keys()]"
      ]
    },
    {
      "cell_type": "markdown",
      "metadata": {},
      "source": [
        "### GET detail each of provinces"
      ]
    },
    {
      "cell_type": "code",
      "execution_count": 11,
      "metadata": {
        "id": "2vCtO1LxbNs3"
      },
      "outputs": [],
      "source": [
        "def getDetail(i):\n",
        "  global countNull\n",
        "  temp = []\n",
        "  DataCurr = data[str(i)] \n",
        "  DataKey = [k for k in data[str(i)]] \n",
        "  Curr = data[str(i)][\"18/3/2020\"]\n",
        "  sumCovid = 0\n",
        "  for k in Keys:\n",
        "    if k in DataKey:\n",
        "      if DataCurr[k]!=0:\n",
        "        sumCovid = DataCurr[k]\n",
        "    temp.append(sumCovid)\n",
        "  return temp"
      ]
    },
    {
      "cell_type": "code",
      "execution_count": 12,
      "metadata": {
        "id": "XNGmpFq3KrSB"
      },
      "outputs": [],
      "source": [
        "CovidExcel = {}\n",
        "HaNoi = data[\"1\"]\n",
        "CovidExcel[\"Ngày\"] = [k for k  in HaNoi.keys()]\n",
        "for i in range(1, 64, 1):\n",
        "  if i < 20:\n",
        "    CovidExcel[tempProvince[i - 1][1]] = getDetail(i)\n",
        "  else:\n",
        "    CovidExcel[tempProvince[i - 1][1]] = getDetail(i + 1)"
      ]
    },
    {
      "cell_type": "markdown",
      "metadata": {},
      "source": [
        "### Save into excel file"
      ]
    },
    {
      "cell_type": "code",
      "execution_count": 13,
      "metadata": {
        "id": "_iuyU9wSOg2U"
      },
      "outputs": [],
      "source": [
        "df = pd.DataFrame(CovidExcel)"
      ]
    },
    {
      "cell_type": "code",
      "execution_count": 14,
      "metadata": {
        "id": "GUuEVXdQOtnN"
      },
      "outputs": [],
      "source": [
        "df.to_excel('../Data/' + DataFile+ '.xlsx', sheet_name='Covid', index=False)"
      ]
    }
  ],
  "metadata": {
    "colab": {
      "collapsed_sections": [],
      "name": "CovidPatient.ipynb",
      "provenance": []
    },
    "kernelspec": {
      "display_name": "Python 3",
      "name": "python3"
    },
    "language_info": {
      "codemirror_mode": {
        "name": "ipython",
        "version": 3
      },
      "file_extension": ".py",
      "mimetype": "text/x-python",
      "name": "python",
      "nbconvert_exporter": "python",
      "pygments_lexer": "ipython3",
      "version": "3.9.6"
    }
  },
  "nbformat": 4,
  "nbformat_minor": 0
}
